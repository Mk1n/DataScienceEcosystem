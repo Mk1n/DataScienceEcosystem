{
 "cells": [
  {
   "cell_type": "markdown",
   "id": "c4a0ee82-8f1c-438f-8989-a64c52bbbefa",
   "metadata": {},
   "source": [
    "# Data Science Tools and Ecosystem"
   ]
  },
  {
   "cell_type": "markdown",
   "id": "9d02610e-703e-441d-8025-9862efa026c5",
   "metadata": {},
   "source": [
    "In this notebook, Data Science Tools and Ecosystem are summarized."
   ]
  },
  {
   "cell_type": "markdown",
   "id": "8e357263-6218-4917-86d9-1309faa95a3c",
   "metadata": {},
   "source": [
    "Some of the popular languages that Data Scientists use are:\n",
    "1.Python\n",
    "2.R\n",
    "3.SQL\n",
    "4.C++\n"
   ]
  },
  {
   "cell_type": "markdown",
   "id": "7c3c7b2b-4cb9-4637-8e91-2b2ef97bc2dd",
   "metadata": {},
   "source": [
    "Some of the commonly used libraries used by Data Scientists include:\n",
    "1.TensorFlow\n",
    "2.NumPy\n",
    "3.SciPy\n",
    "4.Pandas"
   ]
  },
  {
   "cell_type": "markdown",
   "id": "d950fbcf-956c-4e01-8bf7-b82391565ae5",
   "metadata": {},
   "source": [
    "| Data Science Tools |\n",
    "|--------------------|\n",
    "| Jupyter Notebook   |\n",
    "| RStudio            |\n",
    "| VS Code with Python extension |\n"
   ]
  },
  {
   "cell_type": "markdown",
   "id": "9f2be613-218b-4ab5-9652-66f8e1de5de1",
   "metadata": {},
   "source": [
    "### Below are a few examples of evaluating arithmetic expressions in Python"
   ]
  },
  {
   "cell_type": "code",
   "execution_count": 2,
   "id": "4a3e2d91-7335-4bed-bd3d-085c4cc63f12",
   "metadata": {},
   "outputs": [
    {
     "data": {
      "text/plain": [
       "17"
      ]
     },
     "execution_count": 2,
     "metadata": {},
     "output_type": "execute_result"
    }
   ],
   "source": [
    "#This a simple arithmetic expression to mutiply then add integers\n",
    "(3*4)+5"
   ]
  },
  {
   "cell_type": "code",
   "execution_count": 3,
   "id": "09a181d1-5cc1-459c-acc8-4307ffd85069",
   "metadata": {},
   "outputs": [
    {
     "data": {
      "text/plain": [
       "3.3333333333333335"
      ]
     },
     "execution_count": 3,
     "metadata": {},
     "output_type": "execute_result"
    }
   ],
   "source": [
    "#This will convert 200 minutes to hours by diving by 60\n",
    "200/60"
   ]
  },
  {
   "cell_type": "markdown",
   "id": "4243a305-85b8-43e9-aa8e-7c7c86f11327",
   "metadata": {
    "scrolled": true
   },
   "source": [
    "__Objective__\n",
    "* List popular languages for Data Science\n",
    "* List popular libraries for Data Science\n",
    "* List of Well Known Data Science Tools\n",
    "* HOW  to Provide Comments in the Cell\n"
   ]
  },
  {
   "cell_type": "markdown",
   "id": "197cb63a-a9c9-4ce8-b216-e1357e45105c",
   "metadata": {},
   "source": [
    "## Author"
   ]
  },
  {
   "cell_type": "markdown",
   "id": "afec4069-be8f-40a3-8738-62129679a23e",
   "metadata": {},
   "source": [
    "Mohammed Almas"
   ]
  }
 ],
 "metadata": {
  "kernelspec": {
   "display_name": "Python 3 (ipykernel)",
   "language": "python",
   "name": "python3"
  },
  "language_info": {
   "codemirror_mode": {
    "name": "ipython",
    "version": 3
   },
   "file_extension": ".py",
   "mimetype": "text/x-python",
   "name": "python",
   "nbconvert_exporter": "python",
   "pygments_lexer": "ipython3",
   "version": "3.12.2"
  }
 },
 "nbformat": 4,
 "nbformat_minor": 5
}
